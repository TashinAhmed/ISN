{
  "nbformat": 4,
  "nbformat_minor": 0,
  "metadata": {
    "colab": {
      "provenance": [],
      "gpuType": "T4"
    },
    "kernelspec": {
      "name": "python3",
      "display_name": "Python 3"
    },
    "language_info": {
      "name": "python"
    },
    "accelerator": "GPU"
  },
  "cells": [
    {
      "cell_type": "code",
      "execution_count": 1,
      "metadata": {
        "colab": {
          "base_uri": "https://localhost:8080/"
        },
        "id": "JplsewQdSDIK",
        "outputId": "f415358e-f426-44e4-f90d-95d16eaaabdd"
      },
      "outputs": [
        {
          "output_type": "stream",
          "name": "stdout",
          "text": [
            "Cloning into 'ISN'...\n",
            "remote: Enumerating objects: 172, done.\u001b[K\n",
            "remote: Counting objects: 100% (21/21), done.\u001b[K\n",
            "remote: Compressing objects: 100% (19/19), done.\u001b[K\n",
            "remote: Total 172 (delta 6), reused 8 (delta 2), pack-reused 151\u001b[K\n",
            "Receiving objects: 100% (172/172), 42.92 MiB | 23.03 MiB/s, done.\n",
            "Resolving deltas: 100% (64/64), done.\n",
            "Updating files: 100% (44/44), done.\n"
          ]
        }
      ],
      "source": [
        "!git clone https://github.com/TashinAhmed/ISN.git"
      ]
    },
    {
      "cell_type": "code",
      "source": [
        "!pip install -q segmentation-models-pytorch==0.3.3 pytorch-lightning==2.3.0 gputil==1.4.0"
      ],
      "metadata": {
        "colab": {
          "base_uri": "https://localhost:8080/"
        },
        "id": "tdPqps9oSxTd",
        "outputId": "e9c39582-7b62-42da-a865-afef2ba9880d"
      },
      "execution_count": 2,
      "outputs": [
        {
          "output_type": "stream",
          "name": "stdout",
          "text": [
            "\u001b[2K     \u001b[90m━━━━━━━━━━━━━━━━━━━━━━━━━━━━━━━━━━━━━━━━\u001b[0m \u001b[32m106.7/106.7 kB\u001b[0m \u001b[31m3.1 MB/s\u001b[0m eta \u001b[36m0:00:00\u001b[0m\n",
            "\u001b[2K     \u001b[90m━━━━━━━━━━━━━━━━━━━━━━━━━━━━━━━━━━━━━━━━\u001b[0m \u001b[32m812.2/812.2 kB\u001b[0m \u001b[31m12.0 MB/s\u001b[0m eta \u001b[36m0:00:00\u001b[0m\n",
            "\u001b[?25h  Preparing metadata (setup.py) ... \u001b[?25l\u001b[?25hdone\n",
            "\u001b[2K     \u001b[90m━━━━━━━━━━━━━━━━━━━━━━━━━━━━━━━━━━━━━━━━\u001b[0m \u001b[32m58.8/58.8 kB\u001b[0m \u001b[31m8.4 MB/s\u001b[0m eta \u001b[36m0:00:00\u001b[0m\n",
            "\u001b[?25h  Preparing metadata (setup.py) ... \u001b[?25l\u001b[?25hdone\n",
            "  Preparing metadata (setup.py) ... \u001b[?25l\u001b[?25hdone\n",
            "\u001b[2K     \u001b[90m━━━━━━━━━━━━━━━━━━━━━━━━━━━━━━━━━━━━━━━━\u001b[0m \u001b[32m2.2/2.2 MB\u001b[0m \u001b[31m23.6 MB/s\u001b[0m eta \u001b[36m0:00:00\u001b[0m\n",
            "\u001b[2K     \u001b[90m━━━━━━━━━━━━━━━━━━━━━━━━━━━━━━━━━━━━━━━━\u001b[0m \u001b[32m868.8/868.8 kB\u001b[0m \u001b[31m32.4 MB/s\u001b[0m eta \u001b[36m0:00:00\u001b[0m\n",
            "\u001b[2K     \u001b[90m━━━━━━━━━━━━━━━━━━━━━━━━━━━━━━━━━━━━━━━━\u001b[0m \u001b[32m21.3/21.3 MB\u001b[0m \u001b[31m57.7 MB/s\u001b[0m eta \u001b[36m0:00:00\u001b[0m\n",
            "\u001b[?25h  Building wheel for gputil (setup.py) ... \u001b[?25l\u001b[?25hdone\n",
            "  Building wheel for efficientnet-pytorch (setup.py) ... \u001b[?25l\u001b[?25hdone\n",
            "  Building wheel for pretrainedmodels (setup.py) ... \u001b[?25l\u001b[?25hdone\n"
          ]
        }
      ]
    },
    {
      "cell_type": "code",
      "source": [
        "%cd ISN\n",
        "!pwd"
      ],
      "metadata": {
        "colab": {
          "base_uri": "https://localhost:8080/"
        },
        "id": "g1yI0jVvSo3N",
        "outputId": "beff1e5e-e798-4bcd-d72f-4018a83cf5c2"
      },
      "execution_count": 5,
      "outputs": [
        {
          "output_type": "stream",
          "name": "stdout",
          "text": [
            "[Errno 2] No such file or directory: 'ISN'\n",
            "/content/ISN\n",
            "/content/ISN\n"
          ]
        }
      ]
    },
    {
      "cell_type": "code",
      "source": [
        "!python src/data_preparation/dataset_generator.py"
      ],
      "metadata": {
        "colab": {
          "base_uri": "https://localhost:8080/"
        },
        "id": "0veSHCM1TH-R",
        "outputId": "14819213-9e43-4af8-bb7f-47227e1ca93c"
      },
      "execution_count": 6,
      "outputs": [
        {
          "output_type": "stream",
          "name": "stdout",
          "text": [
            "100% 1000/1000 [00:02<00:00, 466.31it/s]\n"
          ]
        }
      ]
    },
    {
      "cell_type": "code",
      "source": [
        "!python src/data_preparation/dataset_preprocessing.py"
      ],
      "metadata": {
        "colab": {
          "base_uri": "https://localhost:8080/"
        },
        "id": "-uUS__OlTIw8",
        "outputId": "27d83c92-a42a-4aad-f7a5-595963e9fa1f"
      },
      "execution_count": 7,
      "outputs": [
        {
          "output_type": "stream",
          "name": "stdout",
          "text": [
            "100% 1000/1000 [00:00<00:00, 6586.35it/s]\n",
            "Dataset splitting and creation completed at data/preprocessed/experiment and data/preprocessed/holding.\n"
          ]
        }
      ]
    },
    {
      "cell_type": "code",
      "source": [
        "!python src/data_preparation/metadata_generator.py"
      ],
      "metadata": {
        "colab": {
          "base_uri": "https://localhost:8080/"
        },
        "id": "nryG1eMeTMGj",
        "outputId": "7ec87dcf-723f-43de-ef3c-425f0096d8fb"
      },
      "execution_count": 8,
      "outputs": [
        {
          "output_type": "stream",
          "name": "stdout",
          "text": [
            "metadata.csv has been created at data/preprocessed/metadata.csv\n"
          ]
        }
      ]
    },
    {
      "cell_type": "code",
      "source": [
        "!python scripts/run_training.py"
      ],
      "metadata": {
        "colab": {
          "base_uri": "https://localhost:8080/"
        },
        "id": "kT7dg0N1SrQe",
        "outputId": "6cde4cfc-d0e7-4741-b204-1c9494a5f564"
      },
      "execution_count": 13,
      "outputs": [
        {
          "output_type": "stream",
          "name": "stdout",
          "text": [
            "GPU available: True (cuda), used: True\n",
            "TPU available: False, using: 0 TPU cores\n",
            "HPU available: False, using: 0 HPUs\n",
            "/usr/local/lib/python3.10/dist-packages/pytorch_lightning/utilities/parsing.py:208: Attribute 'net' is an instance of `nn.Module` and is already saved during checkpointing. It is recommended to ignore them using `self.save_hyperparameters(ignore=['net'])`.\n",
            "/usr/local/lib/python3.10/dist-packages/pytorch_lightning/utilities/parsing.py:208: Attribute 'loss' is an instance of `nn.Module` and is already saved during checkpointing. It is recommended to ignore them using `self.save_hyperparameters(ignore=['loss'])`.\n",
            "Starting training from scratch...\n",
            "LOCAL_RANK: 0 - CUDA_VISIBLE_DEVICES: [0]\n",
            "\n",
            "  | Name | Type             | Params | Mode \n",
            "--------------------------------------------------\n",
            "0 | loss | CrossEntropyLoss | 0      | train\n",
            "1 | net  | UnetPlusPlus     | 10.4 M | train\n",
            "--------------------------------------------------\n",
            "10.4 M    Trainable params\n",
            "0         Non-trainable params\n",
            "10.4 M    Total params\n",
            "41.606    Total estimated model params size (MB)\n",
            "Epoch 0:   0% 0/92 [00:00<?, ?it/s] /usr/local/lib/python3.10/dist-packages/torch/autograd/graph.py:744: UserWarning: Plan failed with a cudnnException: CUDNN_BACKEND_EXECUTION_PLAN_DESCRIPTOR: cudnnFinalize Descriptor Failed cudnn_status: CUDNN_STATUS_NOT_SUPPORTED (Triggered internally at ../aten/src/ATen/native/cudnn/Conv_v8.cpp:919.)\n",
            "  return Variable._execution_engine.run_backward(  # Calls into the C++ engine to run the backward pass\n",
            "Epoch 0: 100% 92/92 [02:17<00:00,  1.50s/it, v_num=4]\n",
            "Validation: |          | 0/? [00:00<?, ?it/s]\u001b[A\n",
            "Validation:   0% 0/12 [00:00<?, ?it/s]       \u001b[A\n",
            "Validation DataLoader 0:   0% 0/12 [00:00<?, ?it/s]\u001b[A\n",
            "Validation DataLoader 0: 100% 12/12 [00:01<00:00, 10.63it/s]\u001b[A\n",
            "Epoch 1: 100% 92/92 [06:19<00:00,  4.13s/it, v_num=4]\n",
            "Validation: |          | 0/? [00:00<?, ?it/s]\u001b[A\n",
            "Validation:   0% 0/12 [00:00<?, ?it/s]       \u001b[A\n",
            "Validation DataLoader 0:   0% 0/12 [00:00<?, ?it/s]\u001b[A\n",
            "Validation DataLoader 0: 100% 12/12 [00:00<00:00, 16.37it/s]\u001b[A\n",
            "Epoch 2: 100% 92/92 [06:18<00:00,  4.11s/it, v_num=4]\n",
            "Validation: |          | 0/? [00:00<?, ?it/s]\u001b[A\n",
            "Validation:   0% 0/12 [00:00<?, ?it/s]       \u001b[A\n",
            "Validation DataLoader 0:   0% 0/12 [00:00<?, ?it/s]\u001b[A\n",
            "Validation DataLoader 0: 100% 12/12 [00:01<00:00, 10.60it/s]\u001b[A\n",
            "Epoch 2: 100% 92/92 [08:20<00:00,  5.44s/it, v_num=4]`Trainer.fit` stopped: `max_epochs=3` reached.\n",
            "Epoch 2: 100% 92/92 [10:21<00:00,  6.75s/it, v_num=4]\n"
          ]
        }
      ]
    },
    {
      "cell_type": "code",
      "source": [
        "!python scripts/run_evaluation.py"
      ],
      "metadata": {
        "id": "M4GGq2iESufM",
        "colab": {
          "base_uri": "https://localhost:8080/"
        },
        "outputId": "85923c7c-6f33-47f7-c322-93b6dc9c1952"
      },
      "execution_count": 23,
      "outputs": [
        {
          "output_type": "stream",
          "name": "stdout",
          "text": [
            "Loading checkpoint: ./working/savedckpt/lightning_trained-v1.ckpt\n",
            "/usr/local/lib/python3.10/dist-packages/pytorch_lightning/utilities/parsing.py:208: Attribute 'net' is an instance of `nn.Module` and is already saved during checkpointing. It is recommended to ignore them using `self.save_hyperparameters(ignore=['net'])`.\n",
            "/usr/local/lib/python3.10/dist-packages/pytorch_lightning/utilities/parsing.py:208: Attribute 'loss' is an instance of `nn.Module` and is already saved during checkpointing. It is recommended to ignore them using `self.save_hyperparameters(ignore=['loss'])`.\n",
            "Next checkpoint not found. Falling back to: ./working/savedckpt/lightning_trained-v1.ckpt\n",
            "GPU available: True (cuda), used: True\n",
            "TPU available: False, using: 0 TPU cores\n",
            "HPU available: False, using: 0 HPUs\n",
            "2024-06-22 21:19:17.965481: E external/local_xla/xla/stream_executor/cuda/cuda_dnn.cc:9261] Unable to register cuDNN factory: Attempting to register factory for plugin cuDNN when one has already been registered\n",
            "2024-06-22 21:19:17.965525: E external/local_xla/xla/stream_executor/cuda/cuda_fft.cc:607] Unable to register cuFFT factory: Attempting to register factory for plugin cuFFT when one has already been registered\n",
            "2024-06-22 21:19:17.966896: E external/local_xla/xla/stream_executor/cuda/cuda_blas.cc:1515] Unable to register cuBLAS factory: Attempting to register factory for plugin cuBLAS when one has already been registered\n",
            "2024-06-22 21:19:17.973505: I tensorflow/core/platform/cpu_feature_guard.cc:182] This TensorFlow binary is optimized to use available CPU instructions in performance-critical operations.\n",
            "To enable the following instructions: AVX2 AVX512F FMA, in other operations, rebuild TensorFlow with the appropriate compiler flags.\n",
            "2024-06-22 21:19:18.958028: W tensorflow/compiler/tf2tensorrt/utils/py_utils.cc:38] TF-TRT Warning: Could not find TensorRT\n",
            "DEBUG - df type: <class 'pandas.core.frame.DataFrame'>\n",
            "DEBUG - df content:\n",
            "      image_id  ...                                    mask_path\n",
            "0         229  ...  ./data/preprocessed/experiment/229_mask.png\n",
            "1         790  ...  ./data/preprocessed/experiment/790_mask.png\n",
            "2         442  ...  ./data/preprocessed/experiment/442_mask.png\n",
            "3         341  ...  ./data/preprocessed/experiment/341_mask.png\n",
            "4         307  ...  ./data/preprocessed/experiment/307_mask.png\n",
            "..        ...  ...                                          ...\n",
            "893       615  ...  ./data/preprocessed/experiment/615_mask.png\n",
            "894       410  ...  ./data/preprocessed/experiment/410_mask.png\n",
            "897        66  ...   ./data/preprocessed/experiment/66_mask.png\n",
            "898       319  ...  ./data/preprocessed/experiment/319_mask.png\n",
            "899       699  ...  ./data/preprocessed/experiment/699_mask.png\n",
            "\n",
            "[729 rows x 4 columns]\n",
            "DEBUG - df type: <class 'pandas.core.frame.DataFrame'>\n",
            "DEBUG - df content:\n",
            "      image_id  ...                                    mask_path\n",
            "70        340  ...  ./data/preprocessed/experiment/340_mask.png\n",
            "827       535  ...  ./data/preprocessed/experiment/535_mask.png\n",
            "231       502  ...  ./data/preprocessed/experiment/502_mask.png\n",
            "588       808  ...  ./data/preprocessed/experiment/808_mask.png\n",
            "39        309  ...  ./data/preprocessed/experiment/309_mask.png\n",
            "..        ...  ...                                          ...\n",
            "777        52  ...   ./data/preprocessed/experiment/52_mask.png\n",
            "381       583  ...  ./data/preprocessed/experiment/583_mask.png\n",
            "485       883  ...  ./data/preprocessed/experiment/883_mask.png\n",
            "218        43  ...   ./data/preprocessed/experiment/43_mask.png\n",
            "575       769  ...  ./data/preprocessed/experiment/769_mask.png\n",
            "\n",
            "[90 rows x 4 columns]\n",
            "DEBUG - df type: <class 'pandas.core.frame.DataFrame'>\n",
            "DEBUG - df content:\n",
            "      image_id  ...                                    mask_path\n",
            "276        51  ...   ./data/preprocessed/experiment/51_mask.png\n",
            "751       661  ...  ./data/preprocessed/experiment/661_mask.png\n",
            "255       908  ...  ./data/preprocessed/experiment/908_mask.png\n",
            "324       279  ...  ./data/preprocessed/experiment/279_mask.png\n",
            "605       396  ...  ./data/preprocessed/experiment/396_mask.png\n",
            "..        ...  ...                                          ...\n",
            "672       834  ...  ./data/preprocessed/experiment/834_mask.png\n",
            "308       381  ...  ./data/preprocessed/experiment/381_mask.png\n",
            "368        18  ...   ./data/preprocessed/experiment/18_mask.png\n",
            "425       789  ...  ./data/preprocessed/experiment/789_mask.png\n",
            "236        37  ...   ./data/preprocessed/experiment/37_mask.png\n",
            "\n",
            "[81 rows x 4 columns]\n",
            "LOCAL_RANK: 0 - CUDA_VISIBLE_DEVICES: [0]\n",
            "/usr/lib/python3.10/multiprocessing/popen_fork.py:66: RuntimeWarning: os.fork() was called. os.fork() is incompatible with multithreaded code, and JAX is multithreaded, so this will likely lead to a deadlock.\n",
            "  self.pid = os.fork()\n",
            "Testing DataLoader 0: 100% 11/11 [00:01<00:00,  7.72it/s]\n",
            "┏━━━━━━━━━━━━━━━━━━━━━━━━━━━┳━━━━━━━━━━━━━━━━━━━━━━━━━━━┓\n",
            "┃\u001b[1m \u001b[0m\u001b[1m       Test metric       \u001b[0m\u001b[1m \u001b[0m┃\u001b[1m \u001b[0m\u001b[1m      DataLoader 0       \u001b[0m\u001b[1m \u001b[0m┃\n",
            "┡━━━━━━━━━━━━━━━━━━━━━━━━━━━╇━━━━━━━━━━━━━━━━━━━━━━━━━━━┩\n",
            "│\u001b[36m \u001b[0m\u001b[36m      test_accuracy      \u001b[0m\u001b[36m \u001b[0m│\u001b[35m \u001b[0m\u001b[35m    0.999362051486969    \u001b[0m\u001b[35m \u001b[0m│\n",
            "│\u001b[36m \u001b[0m\u001b[36m      test_f1_score      \u001b[0m\u001b[36m \u001b[0m│\u001b[35m \u001b[0m\u001b[35m   0.9993619322776794    \u001b[0m\u001b[35m \u001b[0m│\n",
            "│\u001b[36m \u001b[0m\u001b[36m     test_iou_score      \u001b[0m\u001b[36m \u001b[0m│\u001b[35m \u001b[0m\u001b[35m   0.9987249374389648    \u001b[0m\u001b[35m \u001b[0m│\n",
            "│\u001b[36m \u001b[0m\u001b[36m        test_loss        \u001b[0m\u001b[36m \u001b[0m│\u001b[35m \u001b[0m\u001b[35m   0.31535810078101356   \u001b[0m\u001b[35m \u001b[0m│\n",
            "│\u001b[36m \u001b[0m\u001b[36m       test_recall       \u001b[0m\u001b[36m \u001b[0m│\u001b[35m \u001b[0m\u001b[35m   0.9993336200714111    \u001b[0m\u001b[35m \u001b[0m│\n",
            "└───────────────────────────┴───────────────────────────┘\n"
          ]
        }
      ]
    },
    {
      "cell_type": "code",
      "source": [],
      "metadata": {
        "id": "6M95WND_raKn"
      },
      "execution_count": null,
      "outputs": []
    }
  ]
}